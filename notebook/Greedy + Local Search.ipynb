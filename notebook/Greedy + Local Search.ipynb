{
 "cells": [
  {
   "cell_type": "markdown",
   "id": "c36f7447",
   "metadata": {},
   "source": [
    "# Read input"
   ]
  },
  {
   "cell_type": "code",
   "execution_count": 37,
   "id": "139be99b",
   "metadata": {},
   "outputs": [],
   "source": [
    "def read_input(filename):\n",
    "    with open(filename, 'r') as f:\n",
    "        lines = [list(map(int, line.strip().split())) for line in f if line.strip()]\n",
    "\n",
    "    N, M = lines[0]                          # số loại sản phẩm, số kệ\n",
    "    Q = lines[1:1+N]                         # ma trận Q: N dòng, mỗi dòng M phần tử\n",
    "    d = lines[1+N:1+N+M+1]                   # ma trận khoảng cách: (M+1) dòng\n",
    "    q = lines[1+N+M+1]                       # nhu cầu: N phần tử\n",
    "\n",
    "    return N, M, Q, d, q\n",
    "\n",
    "# Ví dụ gọi hàm\n",
    "N, M, Q, d, q = read_input(\"../test/input/2.txt\")"
   ]
  },
  {
   "cell_type": "code",
   "execution_count": 38,
   "id": "d56bc9d7",
   "metadata": {},
   "outputs": [
    {
     "name": "stdout",
     "output_type": "stream",
     "text": [
      "Số lượng kệ: 500\n",
      "Số loại mặt hàng: 20\n"
     ]
    }
   ],
   "source": [
    "print(f\"Số lượng kệ: {M}\")\n",
    "print(f\"Số loại mặt hàng: {N}\")\n"
   ]
  },
  {
   "cell_type": "code",
   "execution_count": 39,
   "id": "a0be8a9d",
   "metadata": {},
   "outputs": [],
   "source": [
    "current_position = 0  # bắt đầu tại cửa kho\n",
    "remaining = q.copy()  # nhu cầu còn lại\n",
    "selected_shelves = []  # danh sách kệ đã ghé\n",
    "visited = set()"
   ]
  },
  {
   "cell_type": "code",
   "execution_count": 40,
   "id": "af40891b",
   "metadata": {},
   "outputs": [],
   "source": [
    "while any(remaining[i] > 0 for i in range(N)):\n",
    "    # Tìm kệ khả thi: chưa ghé và có hàng cần\n",
    "    candidates = []\n",
    "    for j in range(1, M+1):\n",
    "        if j in visited:\n",
    "            continue\n",
    "        if any(Q[i][j-1] > 0 and remaining[i] > 0 for i in range(N)):\n",
    "            candidates.append(j)\n",
    "\n",
    "    # Nếu không còn ứng viên, dừng (hoặc báo lỗi)\n",
    "    if not candidates:\n",
    "        raise ValueError(\"Không thể thỏa mãn nhu cầu\")\n",
    "\n",
    "    # Chọn kệ gần nhất trong số các ứng viên\n",
    "    next_shelf = min(candidates, key=lambda j: d[current_position][j])\n",
    "    selected_shelves.append(next_shelf)\n",
    "    visited.add(next_shelf)\n",
    "\n",
    "    # Cập nhật nhu cầu\n",
    "    for i in range(N):\n",
    "        taken = min(Q[i][next_shelf - 1], remaining[i])\n",
    "        remaining[i] -= taken\n",
    "\n",
    "    # Cập nhật vị trí hiện tại\n",
    "    current_position = next_shelf"
   ]
  },
  {
   "cell_type": "code",
   "execution_count": 41,
   "id": "731e982e",
   "metadata": {},
   "outputs": [
    {
     "name": "stdout",
     "output_type": "stream",
     "text": [
      "461\n",
      "407 143 351 121 230 239 272 266 193 459 358 286 162 263 410 120 190 313 319 100 63 154 32 350 90 229 298 126 104 287 450 248 293 498 383 315 466 127 192 467 82 15 106 252 17 232 453 388 355 48 302 311 118 43 221 224 131 265 412 471 362 86 337 39 384 58 400 465 336 107 180 473 136 81 99 116 157 161 262 341 69 446 111 135 416 23 125 41 387 323 260 454 113 320 321 434 166 291 422 461 267 405 159 499 233 411 236 457 198 178 445 474 140 188 133 300 316 373 67 4 486 306 364 460 174 51 303 398 433 343 226 146 119 137 253 208 237 169 45 478 354 71 213 235 34 470 283 403 37 335 492 187 418 114 324 356 144 13 240 275 322 301 255 268 399 368 401 395 197 66 432 326 376 389 179 312 30 153 282 68 186 156 476 245 134 490 242 225 202 177 488 110 27 227 151 338 145 345 14 42 50 124 456 80 273 238 423 142 91 108 339 141 88 475 167 370 372 74 479 215 53 333 310 369 33 378 455 150 420 480 449 35 390 440 101 76 379 243 394 8 102 328 254 417 271 64 149 391 123 21 340 168 194 374 304 257 170 489 29 56 495 117 289 377 404 122 171 318 49 327 270 59 484 214 439 281 219 40 259 130 468 347 60 199 244 47 458 462 428 132 365 19 164 406 182 184 75 413 371 288 93 487 447 73 211 183 386 435 61 353 367 251 6 278 256 55 163 292 348 160 191 494 250 38 204 284 247 70 481 10 218 325 342 44 269 430 329 155 264 1 295 424 5 84 464 427 2 94 24 222 297 309 217 483 89 261 172 431 346 359 95 274 98 3 285 139 361 429 426 234 443 20 209 210 280 485 497 173 212 7 203 375 12 138 201 296 205 54 463 472 109 279 72 241 314 441 96 452 334 189 415 195 25 469 409 344 332 414 380 196 228 158 175 176 165 419 308 207 366 436 294 148 231 36 402 381 129 26 22 357 392 496 9 62 77 31 493 349 421 52 276 408 352 16 57 307 477 438 393 258 83 87 103 112 18 206 331 425 220 85 442\n"
     ]
    }
   ],
   "source": [
    "print(len(selected_shelves))\n",
    "print(*selected_shelves)"
   ]
  },
  {
   "cell_type": "code",
   "execution_count": 42,
   "id": "1cc74d3d",
   "metadata": {},
   "outputs": [
    {
     "name": "stdout",
     "output_type": "stream",
     "text": [
      "Score: 30/100\n"
     ]
    }
   ],
   "source": [
    "import sys\n",
    "import os\n",
    "\n",
    "sys.path.append(os.path.abspath(\"..\"))\n",
    "from src.eval.evaluation import grade_with_path_similarity\n",
    "\n",
    "score = grade_with_path_similarity(selected_shelves, d, \"../test/output/2.txt\")\n",
    "print(f\"Score: {score}/100\")\n"
   ]
  }
 ],
 "metadata": {
  "kernelspec": {
   "display_name": "base",
   "language": "python",
   "name": "python3"
  },
  "language_info": {
   "codemirror_mode": {
    "name": "ipython",
    "version": 3
   },
   "file_extension": ".py",
   "mimetype": "text/x-python",
   "name": "python",
   "nbconvert_exporter": "python",
   "pygments_lexer": "ipython3",
   "version": "3.12.7"
  }
 },
 "nbformat": 4,
 "nbformat_minor": 5
}
