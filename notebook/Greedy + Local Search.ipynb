{
 "cells": [
  {
   "cell_type": "markdown",
   "id": "c36f7447",
   "metadata": {},
   "source": [
    "# Read input"
   ]
  },
  {
   "cell_type": "code",
   "execution_count": 5,
   "id": "139be99b",
   "metadata": {},
   "outputs": [],
   "source": [
    "def read_input(filename):\n",
    "    with open(filename, 'r') as f:\n",
    "        lines = [list(map(int, line.strip().split())) for line in f if line.strip()]\n",
    "\n",
    "    N, M = lines[0]                          # số loại sản phẩm, số kệ\n",
    "    Q = lines[1:1+N]                         # ma trận Q: N dòng, mỗi dòng M phần tử\n",
    "    d = lines[1+N:1+N+M+1]                   # ma trận khoảng cách: (M+1) dòng\n",
    "    q = lines[1+N+M+1]                       # nhu cầu: N phần tử\n",
    "\n",
    "    return N, M, Q, d, q\n",
    "\n",
    "# Ví dụ gọi hàm\n",
    "N, M, Q, d, q = read_input(\"../test/input/1.txt\")"
   ]
  },
  {
   "cell_type": "code",
   "execution_count": null,
   "id": "d56bc9d7",
   "metadata": {},
   "outputs": [
    {
     "name": "stdout",
     "output_type": "stream",
     "text": [
      "Số lượng kệ: 1000\n",
      "Số loại mặt hàng: 20\n",
      "1001\n"
     ]
    }
   ],
   "source": [
    "print(f\"Số lượng kệ: {M}\")\n",
    "print(f\"Số loại mặt hàng: {N}\")\n"
   ]
  },
  {
   "cell_type": "code",
   "execution_count": 15,
   "id": "a0be8a9d",
   "metadata": {},
   "outputs": [],
   "source": [
    "current_position = 0  # bắt đầu tại cửa kho\n",
    "remaining = q.copy()  # nhu cầu còn lại\n",
    "selected_shelves = []  # danh sách kệ đã ghé\n",
    "visited = set()"
   ]
  },
  {
   "cell_type": "code",
   "execution_count": null,
   "id": "af40891b",
   "metadata": {},
   "outputs": [],
   "source": [
    "while any(remaining[i] > 0 for i in range(N)):\n",
    "    # Tìm kệ khả thi: chưa ghé và có hàng cần\n",
    "    candidates = []\n",
    "    for j in range(1, M+1):\n",
    "        if j in visited:\n",
    "            continue\n",
    "        if any(Q[i][j-1] > 0 and remaining[i] > 0 for i in range(N)):\n",
    "            candidates.append(j)\n",
    "\n",
    "    # Nếu không còn ứng viên, dừng (hoặc báo lỗi)\n",
    "    if not candidates:\n",
    "        raise ValueError(\"Không thể thỏa mãn nhu cầu\")\n",
    "\n",
    "    # Chọn kệ gần nhất trong số các ứng viên\n",
    "    next_shelf = min(candidates, key=lambda j: d[current_position][j])\n",
    "    selected_shelves.append(next_shelf)\n",
    "    visited.add(next_shelf)\n",
    "\n",
    "    # Cập nhật nhu cầu\n",
    "    for i in range(N):\n",
    "        taken = min(Q[i][next_shelf - 1], remaining[i])\n",
    "        remaining[i] -= taken\n",
    "\n",
    "    # Cập nhật vị trí hiện tại\n",
    "    current_position = next_shelf"
   ]
  },
  {
   "cell_type": "code",
   "execution_count": 23,
   "id": "731e982e",
   "metadata": {},
   "outputs": [
    {
     "name": "stdout",
     "output_type": "stream",
     "text": [
      "911\n",
      "532 644 888 617 464 956 67 853 307 777 185 516 925 685 947 178 935 533 380 127 45 717 436 630 302 799 625 721 133 56 742 739 406 382 140 982 438 582 949 773 258 445 873 589 957 950 298 489 852 895 505 492 909 848 143 924 48 209 999 701 296 863 424 193 220 646 823 903 812 731 574 348 73 635 428 30 459 585 19 876 3 137 556 708 981 418 929 325 240 219 165 750 247 442 884 280 963 317 31 595 155 973 655 4 235 711 868 212 111 503 287 318 97 892 110 120 557 613 507 977 315 228 688 946 320 93 103 399 867 29 837 584 115 446 901 430 194 188 521 626 840 227 932 269 751 558 261 958 641 175 237 391 186 820 886 682 416 562 768 32 35 728 225 126 670 355 197 648 889 600 659 757 311 34 376 719 567 88 680 554 524 548 22 979 378 226 780 266 908 998 176 304 116 921 252 85 915 319 453 522 725 638 975 119 78 203 954 164 312 587 879 694 614 344 870 543 765 703 387 816 400 201 357 350 160 974 128 63 502 483 112 748 931 919 681 62 215 39 669 102 411 727 926 980 328 817 937 723 566 154 324 377 696 564 797 961 284 161 663 25 593 55 966 50 733 291 744 347 87 121 500 345 821 414 144 191 740 976 349 54 167 173 367 581 283 606 714 826 916 390 158 729 809 481 864 106 651 180 392 756 282 724 759 61 639 213 695 905 544 960 75 329 710 910 353 634 182 316 836 107 596 602 752 368 166 860 229 98 495 460 486 754 897 162 255 642 546 309 334 9 310 545 259 37 580 704 192 542 568 113 529 257 306 841 653 385 94 206 565 68 246 81 1 2 397 437 513 272 667 393 787 69 737 843 528 988 842 77 443 854 736 791 810 861 555 715 41 898 661 153 450 125 389 288 17 300 270 517 170 782 712 211 968 42 730 129 15 788 343 394 923 104 628 21 239 141 631 204 205 758 249 525 559 953 43 738 978 494 896 466 519 265 855 254 944 352 671 692 218 618 652 444 624 774 456 293 657 622 991 612 637 801 7 496 59 224 804 76 410 217 12 172 214 171 658 690 511 822 673 433 479 429 674 560 590 490 654 10 790 970 997 195 327 26 331 605 987 586 686 174 650 940 434 364 150 273 83 547 553 457 684 972 632 862 372 340 477 99 52 295 338 945 746 299 845 455 179 878 766 18 290 184 619 11 504 627 784 423 829 105 145 216 594 14 100 275 672 620 101 148 233 679 922 536 149 597 157 271 139 402 881 510 413 745 330 753 720 198 427 520 441 232 71 346 163 569 407 274 802 208 934 732 716 952 379 549 509 333 89 403 384 996 465 964 51 64 911 244 677 474 798 800 899 676 484 906 761 882 373 375 58 936 499 468 933 527 656 760 689 749 366 491 238 432 351 865 623 294 335 993 264 550 874 831 803 914 138 985 747 866 289 707 130 358 447 96 90 417 371 13 169 314 57 177 341 109 386 8 808 894 722 66 236 904 487 575 339 604 476 248 610 986 323 279 869 241 72 342 422 805 943 578 877 770 755 902 449 278 200 709 404 636 151 388 470 435 523 245 572 36 530 649 84 912 561 82 640 508 807 633 783 118 398 735 305 286 370 795 285 431 794 412 156 472 815 415 890 705 847 6 811 230 552 369 825 498 778 303 857 856 645 764 124 793 473 698 467 851 408 616 900 818 849 959 576 591 488 767 117 79 135 875 132 242 930 146 448 451 955 1000 920 571 512 251 419 771 40 814 838 577 990 713 776 969 971 871 615 471 570 469 891 461 301 395 374 183 518 383 142 336 939 573 420 859 824 60 463 159 70 363 563 20 16 806 697 123 526 539 668 152 27 80 941 131 181 114 629 660 359 726 65 678 834 381 819 221 675 260 95 426 361 292 702 706 734 762 828 796 887 354 421 609 691 134 313 781 297 785 187 268 989 360 46 534 405 772 501 33 506 514 541 830 49 885 693 23 835 535 210 583 515 263 592 844 482 108 207 190 540 308 5 579 665 775 743 850 332 223 458 599 763 779 965 326 994 253 276 454 913 942 872 537 322 948 277 44 938 951 267 231 53\n"
     ]
    }
   ],
   "source": [
    "print(len(selected_shelves))\n",
    "print(*selected_shelves)"
   ]
  },
  {
   "cell_type": "code",
   "execution_count": 24,
   "id": "1cc74d3d",
   "metadata": {},
   "outputs": [
    {
     "name": "stdout",
     "output_type": "stream",
     "text": [
      "Score: 24/100\n"
     ]
    }
   ],
   "source": [
    "import sys\n",
    "import os\n",
    "\n",
    "sys.path.append(os.path.abspath(\"..\"))\n",
    "from src.eval.evaluation import grade_with_path_similarity\n",
    "\n",
    "score = grade_with_path_similarity(selected_shelves, d, \"../test/output/1.txt\")\n",
    "print(f\"Score: {score}/100\")\n"
   ]
  }
 ],
 "metadata": {
  "kernelspec": {
   "display_name": "base",
   "language": "python",
   "name": "python3"
  },
  "language_info": {
   "codemirror_mode": {
    "name": "ipython",
    "version": 3
   },
   "file_extension": ".py",
   "mimetype": "text/x-python",
   "name": "python",
   "nbconvert_exporter": "python",
   "pygments_lexer": "ipython3",
   "version": "3.12.7"
  }
 },
 "nbformat": 4,
 "nbformat_minor": 5
}
